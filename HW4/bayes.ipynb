{
 "cells": [
  {
   "cell_type": "code",
   "execution_count": 289,
   "metadata": {},
   "outputs": [],
   "source": [
    "import numpy as np\n",
    "import pandas as pd\n",
    "import glob\n",
    "import collections\n",
    "from string import ascii_lowercase as alc\n",
    "import random\n"
   ]
  },
  {
   "cell_type": "code",
   "execution_count": 261,
   "metadata": {},
   "outputs": [],
   "source": [
    "docs=[]\n",
    "label=[]\n",
    "for f in ['e','j','s']:\n",
    "    for j in range(20):\n",
    "        \n",
    "        txt = open('languageID/'+f+str(j)+'.txt','r').read().splitlines()\n",
    "        while '' in txt: txt.remove('')\n",
    "        docs.append(txt)\n",
    "        label.append(f)\n"
   ]
  },
  {
   "cell_type": "code",
   "execution_count": 262,
   "metadata": {},
   "outputs": [
    {
     "data": {
      "text/plain": [
       "['the isolation of the solar system is very great on the above scale the nearest star at a distance of  trillions of miles would be over one half mile away the hours days and years are the measures of time as we use them that is jupiters day one rotation of the planet is made in ten of our hours mercurys year one revolution of the planet around the sun is eightyeight of our days mercurys day and year are the same this planet turns always the same side to the sun',\n",
       " 'are there other universes',\n",
       " 'within the solar system there are a large number of problems that interest us what is the size mass and distance of each of the planets what satellites like our moon do they possess what are their temperatures and those other sporadic members of our system comets and meteors what are they what are their movements how do they originate and the sun itself what is its composition what is the source of its heat how did it originate is it running down',\n",
       " 'fig jupiter',\n",
       " ' ',\n",
       " 'jupiter and saturn']"
      ]
     },
     "execution_count": 262,
     "metadata": {},
     "output_type": "execute_result"
    }
   ],
   "source": [
    "docs[1]"
   ]
  },
  {
   "cell_type": "code",
   "execution_count": 263,
   "metadata": {},
   "outputs": [],
   "source": [
    "modS=[]\n",
    "for doc in range(len(docs)):\n",
    "    # for i in doc:\n",
    "\n",
    "    docs[doc] = list(''.join(docs[doc]))\n",
    "    \n",
    "    modS.append(len(docs[doc]))\n",
    "    \n",
    "\n"
   ]
  },
  {
   "cell_type": "code",
   "execution_count": null,
   "metadata": {},
   "outputs": [],
   "source": []
  },
  {
   "cell_type": "code",
   "execution_count": 264,
   "metadata": {},
   "outputs": [
    {
     "data": {
      "text/plain": [
       "2775"
      ]
     },
     "execution_count": 264,
     "metadata": {},
     "output_type": "execute_result"
    }
   ],
   "source": [
    "len(docs[10])"
   ]
  },
  {
   "cell_type": "code",
   "execution_count": 265,
   "metadata": {},
   "outputs": [
    {
     "data": {
      "text/plain": [
       "3"
      ]
     },
     "execution_count": 265,
     "metadata": {},
     "output_type": "execute_result"
    }
   ],
   "source": [
    "len(collections.Counter(label))"
   ]
  },
  {
   "cell_type": "code",
   "execution_count": 266,
   "metadata": {},
   "outputs": [],
   "source": [
    "def prior_prob(x,y, alpha):\n",
    "    # print(len(x), len(y))\n",
    "    kys = collections.Counter(y)\n",
    "    p_prob=[]\n",
    "    for k in kys.keys():\n",
    "        \n",
    "        p_prob.append((kys[k]+alpha) / (len(x)+len(kys)*alpha))\n",
    "    return p_prob"
   ]
  },
  {
   "cell_type": "code",
   "execution_count": 283,
   "metadata": {},
   "outputs": [
    {
     "data": {
      "text/plain": [
       "[0.3333333333333333, 0.3333333333333333, 0.3333333333333333]"
      ]
     },
     "execution_count": 283,
     "metadata": {},
     "output_type": "execute_result"
    }
   ],
   "source": [
    "trainX = docs[:10]+docs[20:30]+docs[40:50]\n",
    "trainy = label[:10]+label[20:30]+label[40:50]\n",
    "testX = docs[10:20]+docs[30:40]+docs[50:60]\n",
    "testy = label[10:20]+label[30:40]+label[50:60]\n",
    "prior_prob(trainX, trainy, 0.5)"
   ]
  },
  {
   "cell_type": "code",
   "execution_count": 268,
   "metadata": {},
   "outputs": [],
   "source": [
    "def conditional_prob(x, y, alpha, label):\n",
    "    nums = []\n",
    "    den=0\n",
    "    for ch in alc+' ':\n",
    "        num =0\n",
    "        for xi in range(len(x)):\n",
    "\n",
    "            if y[xi] == label:\n",
    "                num+=x[xi].count(ch)\n",
    "                den+=x[xi].count(ch)\n",
    "        num+=alpha\n",
    "        nums.append(num)\n",
    "    den += (len(alc)+1)*alpha\n",
    "    # print(nums)\n",
    "    return ([num/den for num in nums])"
   ]
  },
  {
   "cell_type": "code",
   "execution_count": 269,
   "metadata": {},
   "outputs": [],
   "source": [
    "theta_e = (conditional_prob(trainX, trainy, 0.5, 'e'))"
   ]
  },
  {
   "cell_type": "code",
   "execution_count": 270,
   "metadata": {},
   "outputs": [],
   "source": [
    "theta_j = conditional_prob(trainX, trainy, 0.5, 'j')"
   ]
  },
  {
   "cell_type": "code",
   "execution_count": 271,
   "metadata": {},
   "outputs": [],
   "source": [
    "theta_s = conditional_prob(trainX, trainy, 0.5, 's')"
   ]
  },
  {
   "cell_type": "code",
   "execution_count": 288,
   "metadata": {},
   "outputs": [
    {
     "data": {
      "text/plain": [
       "array([0.105, 0.008, 0.038, 0.04 , 0.114, 0.009, 0.007, 0.005, 0.05 ,\n",
       "       0.007, 0.   , 0.053, 0.026, 0.054, 0.072, 0.024, 0.008, 0.059,\n",
       "       0.066, 0.036, 0.034, 0.006, 0.   , 0.002, 0.008, 0.003, 0.168])"
      ]
     },
     "execution_count": 288,
     "metadata": {},
     "output_type": "execute_result"
    }
   ],
   "source": [
    "np.round(theta_s,3)"
   ]
  },
  {
   "cell_type": "code",
   "execution_count": 291,
   "metadata": {},
   "outputs": [],
   "source": [
    "e10 = docs[10]\n",
    "random.shuffle(e10)\n",
    "c_vec = [e10.count(ch) for ch in alc+' ']\n",
    "\n",
    "def phat(theta, x):\n",
    "    p =0\n",
    "    for i in range(len(theta)):\n",
    "        p+=x[i]*np.log(theta[i])\n",
    "    return p"
   ]
  },
  {
   "cell_type": "code",
   "execution_count": null,
   "metadata": {},
   "outputs": [],
   "source": []
  },
  {
   "cell_type": "code",
   "execution_count": 292,
   "metadata": {},
   "outputs": [
    {
     "data": {
      "text/plain": [
       "[164,\n",
       " 32,\n",
       " 53,\n",
       " 57,\n",
       " 311,\n",
       " 55,\n",
       " 51,\n",
       " 140,\n",
       " 140,\n",
       " 3,\n",
       " 6,\n",
       " 85,\n",
       " 64,\n",
       " 139,\n",
       " 182,\n",
       " 53,\n",
       " 3,\n",
       " 141,\n",
       " 186,\n",
       " 225,\n",
       " 65,\n",
       " 31,\n",
       " 47,\n",
       " 4,\n",
       " 38,\n",
       " 2,\n",
       " 498]"
      ]
     },
     "execution_count": 292,
     "metadata": {},
     "output_type": "execute_result"
    }
   ],
   "source": [
    "c_vec"
   ]
  },
  {
   "cell_type": "code",
   "execution_count": 293,
   "metadata": {},
   "outputs": [],
   "source": [
    "p_xe = phat(theta_e, c_vec)"
   ]
  },
  {
   "cell_type": "code",
   "execution_count": 294,
   "metadata": {},
   "outputs": [],
   "source": [
    "p_xj = phat(theta_j, c_vec)"
   ]
  },
  {
   "cell_type": "code",
   "execution_count": 295,
   "metadata": {},
   "outputs": [],
   "source": [
    "p_xs = phat(theta_s, c_vec)"
   ]
  },
  {
   "cell_type": "code",
   "execution_count": 296,
   "metadata": {},
   "outputs": [
    {
     "data": {
      "text/plain": [
       "(-7841.865447060635, -8771.433079075032, -8467.282044010557)"
      ]
     },
     "execution_count": 296,
     "metadata": {},
     "output_type": "execute_result"
    }
   ],
   "source": [
    "(p_xe,p_xj, p_xs)"
   ]
  },
  {
   "cell_type": "code",
   "execution_count": 281,
   "metadata": {},
   "outputs": [
    {
     "data": {
      "text/plain": [
       "0"
      ]
     },
     "execution_count": 281,
     "metadata": {},
     "output_type": "execute_result"
    }
   ],
   "source": [
    "np.argmax((p_xe,p_xj, p_xs))"
   ]
  },
  {
   "cell_type": "code",
   "execution_count": 282,
   "metadata": {},
   "outputs": [
    {
     "data": {
      "text/plain": [
       "[-7842.964059349303, -8772.5316913637, -8468.380656299225]"
      ]
     },
     "execution_count": 282,
     "metadata": {},
     "output_type": "execute_result"
    }
   ],
   "source": [
    "[p+np.log(0.3333333333333333) for p in [p_xe,p_xj, p_xs]]"
   ]
  },
  {
   "cell_type": "code",
   "execution_count": 284,
   "metadata": {},
   "outputs": [
    {
     "name": "stdout",
     "output_type": "stream",
     "text": [
      "[0, 0, 0, 0, 0, 0, 0, 0, 0, 0, 1, 1, 1, 1, 1, 1, 1, 1, 1, 1, 2, 2, 2, 2, 2, 2, 2, 2, 2, 2]\n"
     ]
    }
   ],
   "source": [
    "pred=[]\n",
    "for i in range(len(testX)):\n",
    "    \n",
    "    vec = [testX[i].count(ch) for ch in alc+' ']\n",
    "    e,j,s=(phat(theta_e, vec), phat(theta_j, vec), phat(theta_s, vec))\n",
    "    pr_p =[p+-np.log(0.3333333333333333) for p in [e,j,s]]\n",
    "    # print(pr_p)\n",
    "    pred.append(np.argmax(pr_p))\n",
    "print(pred)"
   ]
  },
  {
   "cell_type": "code",
   "execution_count": 285,
   "metadata": {},
   "outputs": [
    {
     "data": {
      "text/plain": [
       "['e',\n",
       " 'e',\n",
       " 'e',\n",
       " 'e',\n",
       " 'e',\n",
       " 'e',\n",
       " 'e',\n",
       " 'e',\n",
       " 'e',\n",
       " 'e',\n",
       " 'j',\n",
       " 'j',\n",
       " 'j',\n",
       " 'j',\n",
       " 'j',\n",
       " 'j',\n",
       " 'j',\n",
       " 'j',\n",
       " 'j',\n",
       " 'j',\n",
       " 's',\n",
       " 's',\n",
       " 's',\n",
       " 's',\n",
       " 's',\n",
       " 's',\n",
       " 's',\n",
       " 's',\n",
       " 's',\n",
       " 's']"
      ]
     },
     "execution_count": 285,
     "metadata": {},
     "output_type": "execute_result"
    }
   ],
   "source": [
    "testy"
   ]
  },
  {
   "cell_type": "code",
   "execution_count": 300,
   "metadata": {},
   "outputs": [
    {
     "data": {
      "text/plain": [
       "array([[ 0.69450778],\n",
       "       [-0.04403778],\n",
       "       [ 0.73507413],\n",
       "       [ 0.58881648],\n",
       "       [-0.75663242],\n",
       "       [ 0.9590303 ],\n",
       "       [-0.41357291],\n",
       "       [-0.91931555],\n",
       "       [-0.94971647],\n",
       "       [ 0.94048502],\n",
       "       [ 0.1322818 ],\n",
       "       [ 0.67857636],\n",
       "       [-0.64444292],\n",
       "       [-0.5973264 ],\n",
       "       [-0.72183615],\n",
       "       [-0.88177968],\n",
       "       [ 0.40531191],\n",
       "       [ 0.73153036],\n",
       "       [ 0.26916579],\n",
       "       [-0.86134036],\n",
       "       [-0.23079935],\n",
       "       [-0.24902016],\n",
       "       [-0.79973325],\n",
       "       [ 0.01726866],\n",
       "       [ 0.36793354],\n",
       "       [-0.07818852],\n",
       "       [-0.28180574],\n",
       "       [-0.68819122],\n",
       "       [-0.5816559 ],\n",
       "       [-0.65729466],\n",
       "       [ 0.12796085],\n",
       "       [ 0.59294885],\n",
       "       [ 0.35915723],\n",
       "       [ 0.91249709],\n",
       "       [-0.9549338 ],\n",
       "       [-0.96695881],\n",
       "       [-0.27279339],\n",
       "       [ 0.24659932],\n",
       "       [-0.66165457],\n",
       "       [-0.58944036],\n",
       "       [-0.38491533],\n",
       "       [-0.76730452],\n",
       "       [ 0.49485121],\n",
       "       [ 0.74643933],\n",
       "       [ 0.71286744],\n",
       "       [-0.43828405],\n",
       "       [-0.22231048],\n",
       "       [-0.22179835],\n",
       "       [ 0.88574416],\n",
       "       [-0.14984006],\n",
       "       [-0.33728896],\n",
       "       [ 0.70370879],\n",
       "       [-0.59895686],\n",
       "       [-0.13924918],\n",
       "       [-0.17795   ],\n",
       "       [-0.09993769],\n",
       "       [-0.70589266],\n",
       "       [-0.54791485],\n",
       "       [ 0.63958223],\n",
       "       [ 0.15808488],\n",
       "       [ 0.09307379],\n",
       "       [ 0.69413015],\n",
       "       [ 0.93861655],\n",
       "       [-0.76435033],\n",
       "       [ 0.41644714],\n",
       "       [ 0.54473266],\n",
       "       [ 0.45558931],\n",
       "       [-0.06476008],\n",
       "       [-0.37620146],\n",
       "       [ 0.82047607],\n",
       "       [-0.0526991 ],\n",
       "       [-0.62946869],\n",
       "       [-0.15573538],\n",
       "       [-0.38622571],\n",
       "       [ 0.6918223 ],\n",
       "       [ 0.22187372],\n",
       "       [-0.38049977],\n",
       "       [-0.46053594],\n",
       "       [-0.15925779],\n",
       "       [-0.22534086],\n",
       "       [ 0.8495788 ],\n",
       "       [-0.24365136],\n",
       "       [ 0.91344414],\n",
       "       [ 0.87671545],\n",
       "       [-0.84391696],\n",
       "       [-0.16405605],\n",
       "       [-0.55599765],\n",
       "       [-0.95251198],\n",
       "       [-0.47713589],\n",
       "       [ 0.7345547 ],\n",
       "       [-0.78765892],\n",
       "       [-0.7337971 ],\n",
       "       [ 0.54644786],\n",
       "       [ 0.94035715],\n",
       "       [ 0.19787501],\n",
       "       [ 0.25849274],\n",
       "       [ 0.11232538],\n",
       "       [ 0.68772967],\n",
       "       [-0.07536763],\n",
       "       [ 0.46067286]])"
      ]
     },
     "execution_count": 300,
     "metadata": {},
     "output_type": "execute_result"
    }
   ],
   "source": [
    "np.random.uniform(-1,1,(100,1))"
   ]
  },
  {
   "cell_type": "code",
   "execution_count": null,
   "metadata": {},
   "outputs": [],
   "source": []
  }
 ],
 "metadata": {
  "kernelspec": {
   "display_name": "base",
   "language": "python",
   "name": "python3"
  },
  "language_info": {
   "codemirror_mode": {
    "name": "ipython",
    "version": 3
   },
   "file_extension": ".py",
   "mimetype": "text/x-python",
   "name": "python",
   "nbconvert_exporter": "python",
   "pygments_lexer": "ipython3",
   "version": "3.8.8"
  },
  "orig_nbformat": 4
 },
 "nbformat": 4,
 "nbformat_minor": 2
}
