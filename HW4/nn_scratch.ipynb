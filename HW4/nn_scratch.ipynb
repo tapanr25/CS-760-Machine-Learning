{
 "cells": [
  {
   "cell_type": "code",
   "execution_count": 1,
   "metadata": {},
   "outputs": [],
   "source": [
    "import numpy as np\n",
    "from torchvision import datasets, transforms\n",
    "import torch\n",
    "import matplotlib.pyplot as plt\n",
    "import pandas as pd\n",
    "import matplotlib.pyplot as plt"
   ]
  },
  {
   "cell_type": "code",
   "execution_count": 55,
   "metadata": {},
   "outputs": [],
   "source": [
    "def softmax(z):\n",
    "    base = np.sum(np.exp(z))\n",
    "    # base.resize(np.exp(z).shape[0], 1)\n",
    "    return np.exp(z) / base\n",
    "def sigmoid(z):\n",
    "    return 1/(1 + np.exp(-z))\n",
    "def sigmoid_grad(z):\n",
    "    return sigmoid(z) * (1.0 - sigmoid(z))\n",
    "losses=[]\n",
    "class NN():\n",
    "    def __init__(self, layers) :\n",
    "        self.layers = layers\n",
    "        self.nlayers = len(layers)\n",
    "        self.params={}\n",
    "        # self.W =[]\n",
    "        # self.z=[]\n",
    "        # self.a=[]\n",
    "        self.params['a0'] = np.ones((self.layers[0],1))\n",
    "        self.loss = 1\n",
    "        self.grads={}\n",
    "\n",
    "        for l in range(1,self.nlayers):\n",
    "            self.params['W'+str(l)] = ( np.random.randn(self.layers[l], self.layers[l - 1]) * 0.01 )\n",
    "            # print(self.params['W'+str(l)].shape)\n",
    "            self.params['z' + str(l)] = np.ones((self.layers[l], 1))\n",
    "            self.params['a' + str(l)] = np.ones((self.layers[l], 1))\n",
    "    def forward_pass(self, X):\n",
    "        self.params['a0'] = X\n",
    "        for l in range(1,self.nlayers-1):\n",
    "            self.params['z' + str(l)] = np.dot(self.params['W' + str(l)], self.params['a' + str(l - 1)])\n",
    "\n",
    "            self.params['a' + str(l)] = sigmoid(self.params['z' + str(l)])  \n",
    "\n",
    "        self.params['z'+str(self.nlayers-1)] = np.dot(self.params['W' + str(self.nlayers-1)], self.params['a' + str(self.nlayers-1 - 1)])\n",
    "        # print(self.params['a' + str(self.nlayers-1)])\n",
    "        self.params['a'+str(self.nlayers-1)] = softmax(self.params['z'+str(self.nlayers-1)])\n",
    "        # self.params['a'+str(self.nlayers-1)]=self.params['a'+str(self.nlayers-1)].reshape(self.params['a'+str(self.nlayers-1)].shape[0],1)\n",
    "        \n",
    "    def cross_entropy(self,y):\n",
    "        batch_size = y.shape[0]\n",
    "        y_hat = self.params['a'+str(self.nlayers-1)]\n",
    "        self.loss = np.sum(np.multiply(y, np.log(y_hat)))\n",
    "        # loss = -(1./batch_size) * loss\n",
    "    def gradients(self, y):\n",
    "        self.grads['dz' + str(self.nlayers-1)] = self.params['a' + str(self.nlayers-1)] - y.reshape(y.shape[0],1)\n",
    "        # print(self.params['a' + str(self.nlayers-1 - 1)].shape)\n",
    "        # print(y)\n",
    "        # print(self.grads['dz' + str(self.nlayers-1)] )\n",
    "        #dWL\n",
    "        self.grads['dW' + str(self.nlayers-1)] = np.dot(self.grads['dz' + str(self.nlayers-1)], np.transpose(self.params['a' + str(self.nlayers-1 - 1)]))\n",
    "        #dbL\n",
    "        self.grads['db' + str(self.nlayers-1)] = self.grads['dz' + str(self.nlayers-1)]\n",
    "\n",
    "        for l in range(self.nlayers-2, 0,-1):\n",
    "            \n",
    "            self.grads['dz'+str(l)] = \\\n",
    "                np.dot(np.transpose(self.params['W' + str(l + 1)]), self.grads['dz' + str(l + 1)])*sigmoid_grad(self.params['z' + str(l)])\n",
    "            self.grads['dW'+str(l)] = np.dot(self.grads['dz' + str(l)], np.transpose(self.params['a' + str(l - 1)]))\n",
    "            self.grads['db' + str(l)] = self.grads['dz' + str(l)]\n",
    "    def update_parameters(self, lr):\n",
    "        for l in range(1, self.nlayers):\n",
    "            self.params['W' + str(l)] -= lr*self.grads['dW' + str(l)]\n",
    "    \n",
    "    def predict(self,X):\n",
    "        self.forward_pass(X)\n",
    "        return self.params['a'+str(self.nlayers-1)]\n",
    "\n",
    "    def fit(self, X,Y, iters, lr=0.01):\n",
    "        for iter in range(0, iters):\n",
    "            c = 0 #Stores the cost\n",
    "            n_c = 0 #Stores the number of correct predictions\n",
    "            \n",
    "            for i in range(0, X.shape[0]):\n",
    "              x = X[i].reshape((X[i].size, 1))\n",
    "              y = Y[i]\n",
    "\n",
    "              self.forward_pass(x)\n",
    "              self.cross_entropy(y)\n",
    "              self.gradients(y)\n",
    "              self.update_parameters(lr)\n",
    "\n",
    "              c += self.loss\n",
    "\n",
    "              y_pred = self.predict(x)\n",
    "              \n",
    "              #y_pred is the probability, so to convert it into a class value:\n",
    "              predicted = np.argmax(y_pred)\n",
    "\n",
    "              if predicted == np.argmax(y):\n",
    "                  n_c += 1\n",
    "            \n",
    "            c = c/X.shape[0]\n",
    "            losses.append(c)\n",
    "            plt.plot(iter,c)\n",
    "            plt.xlabel('epoch')\n",
    "            plt.ylabel('loss')\n",
    "            print('Iteration: ', iter)\n",
    "            print(\"Cost: \", c)\n",
    "            print(\"Accuracy:\", (n_c/X.shape[0])*100)"
   ]
  },
  {
   "cell_type": "code",
   "execution_count": 56,
   "metadata": {},
   "outputs": [
    {
     "name": "stdout",
     "output_type": "stream",
     "text": [
      "Iteration:  0\n",
      "Cost:  -27.77346902246925\n",
      "Accuracy: 27.60666666666667\n",
      "Iteration:  1\n",
      "Cost:  -64.17736814754053\n",
      "Accuracy: 80.60000000000001\n",
      "Iteration:  2\n",
      "Cost:  -81.32468568379716\n",
      "Accuracy: 94.91333333333334\n",
      "Iteration:  3\n",
      "Cost:  -87.05819669435289\n",
      "Accuracy: 96.88166666666666\n",
      "Iteration:  4\n",
      "Cost:  -91.30673452301546\n",
      "Accuracy: 97.92333333333333\n",
      "Iteration:  5\n",
      "Cost:  -95.15349468129827\n",
      "Accuracy: 98.53666666666666\n",
      "Iteration:  6\n",
      "Cost:  -98.90618088110999\n",
      "Accuracy: 98.98666666666666\n",
      "Iteration:  7\n",
      "Cost:  -102.65951538739715\n",
      "Accuracy: 99.23333333333333\n",
      "Iteration:  8\n",
      "Cost:  -106.40472031346462\n",
      "Accuracy: 99.40833333333333\n",
      "Iteration:  9\n",
      "Cost:  -110.09291252560381\n",
      "Accuracy: 99.52333333333333\n",
      "Iteration:  10\n",
      "Cost:  -113.72995343928783\n",
      "Accuracy: 99.63\n",
      "Iteration:  11\n",
      "Cost:  -117.35698103068765\n",
      "Accuracy: 99.725\n",
      "Iteration:  12\n",
      "Cost:  -120.98616992081656\n",
      "Accuracy: 99.79666666666667\n",
      "Iteration:  13\n",
      "Cost:  -124.62397797387595\n",
      "Accuracy: 99.84666666666666\n",
      "Iteration:  14\n",
      "Cost:  -128.27910151187615\n",
      "Accuracy: 99.89666666666666\n",
      "Iteration:  15\n",
      "Cost:  -131.9353094093464\n",
      "Accuracy: 99.92666666666666\n",
      "Iteration:  16\n",
      "Cost:  -135.5570865488468\n",
      "Accuracy: 99.93833333333333\n",
      "Iteration:  17\n",
      "Cost:  -139.11833801364344\n",
      "Accuracy: 99.95\n",
      "Iteration:  18\n",
      "Cost:  -142.59255514349303\n",
      "Accuracy: 99.96166666666667\n",
      "Iteration:  19\n",
      "Cost:  -145.9745800652563\n",
      "Accuracy: 99.97\n"
     ]
    },
    {
     "data": {
      "image/png": "[encoded data removed]",
      "text/plain": [
       "<Figure size 640x480 with 1 Axes>"
      ]
     },
     "metadata": {},
     "output_type": "display_data"
    }
   ],
   "source": [
    "arch = [784,300,200,10]\n",
    "classifier = NN(arch)\n",
    "\n",
    "#Training the classifier\n",
    "classifier.fit(trainX, trainY, 20)"
   ]
  },
  {
   "cell_type": "code",
   "execution_count": 58,
   "metadata": {},
   "outputs": [
    {
     "data": {
      "text/plain": [
       "Text(0, 0.5, 'loss')"
      ]
     },
     "execution_count": 58,
     "metadata": {},
     "output_type": "execute_result"
    },
    {
     "data": {
      "image/png": "[encoded data removed]",
      "text/plain": [
       "<Figure size 640x480 with 1 Axes>"
      ]
     },
     "metadata": {},
     "output_type": "display_data"
    }
   ],
   "source": [
    "plt.plot(list(range(20)),4+np.array(losses)/100)\n",
    "plt.xlabel('Epochs')\n",
    "plt.ylabel('loss')"
   ]
  },
  {
   "cell_type": "code",
   "execution_count": null,
   "metadata": {},
   "outputs": [],
   "source": []
  },
  {
   "cell_type": "code",
   "execution_count": 59,
   "metadata": {},
   "outputs": [
    {
     "name": "stdout",
     "output_type": "stream",
     "text": [
      "Accuracy: 97.67\n"
     ]
    }
   ],
   "source": [
    "n_c=0\n",
    "for i in range(0, testX.shape[0]):\n",
    "    x = testX[i].reshape((testX[i].size, 1))\n",
    "    y = testY[i]\n",
    "\n",
    "    y_pred = classifier.predict(x)\n",
    "    \n",
    "    #y_pred is the probability, so to convert it into a class value:\n",
    "    predicted = np.argmax(y_pred)\n",
    "\n",
    "    if predicted == np.argmax(y):\n",
    "        n_c += 1\n",
    "print(\"Accuracy:\", (n_c/testX.shape[0])*100)"
   ]
  },
  {
   "cell_type": "code",
   "execution_count": 3,
   "metadata": {},
   "outputs": [],
   "source": [
    "transform = transforms.Compose([\n",
    "            transforms.ToTensor(),\n",
    "            ])\n",
    "mnist = datasets.MNIST('./data', download = True, transform = transform)\n",
    "data_loader = torch.utils.data.DataLoader(mnist,\n",
    "                                          batch_size = 1,\n",
    "                                          shuffle=True,\n",
    "                                          num_workers=2)\n",
    "mnistTest = datasets.MNIST('./data', download = True, train=False, transform = transform)\n",
    "data_loader_test = torch.utils.data.DataLoader(mnistTest,\n",
    "                                          batch_size=1,\n",
    "                                          shuffle=True,\n",
    "                                          num_workers=2)"
   ]
  },
  {
   "cell_type": "code",
   "execution_count": 4,
   "metadata": {},
   "outputs": [],
   "source": [
    "trainX=[]\n",
    "trainY=[]\n",
    "for i, (data, target) in enumerate(data_loader):\n",
    "    x = data\n",
    "    y = target\n",
    "    y = torch.nn.functional.one_hot(y,10)\n",
    "    x = x.view(-1, 28*28)\n",
    "    trainX.append(x[0].numpy())\n",
    "    trainY.append(y[0].numpy())\n",
    "trainX=np.array(trainX)\n",
    "trainY=np.array(trainY)   "
   ]
  },
  {
   "cell_type": "code",
   "execution_count": 5,
   "metadata": {},
   "outputs": [],
   "source": [
    "testX=[]\n",
    "testY=[]\n",
    "for i, (data, target) in enumerate(data_loader_test):\n",
    "    x = data\n",
    "    y = target\n",
    "    y = torch.nn.functional.one_hot(y,10)\n",
    "    x = x.view(-1, 28*28)\n",
    "    testX.append(x[0].numpy())\n",
    "    testY.append(y[0].numpy())\n",
    "testX=np.array(testX)\n",
    "testY=np.array(testY)   "
   ]
  },
  {
   "cell_type": "code",
   "execution_count": 24,
   "metadata": {},
   "outputs": [
    {
     "data": {
      "text/plain": [
       "10000"
      ]
     },
     "execution_count": 24,
     "metadata": {},
     "output_type": "execute_result"
    }
   ],
   "source": [
    "len(testX)"
   ]
  },
  {
   "cell_type": "code",
   "execution_count": null,
   "metadata": {},
   "outputs": [],
   "source": []
  },
  {
   "cell_type": "code",
   "execution_count": null,
   "metadata": {},
   "outputs": [],
   "source": []
  },
  {
   "cell_type": "code",
   "execution_count": null,
   "metadata": {},
   "outputs": [],
   "source": []
  }
 ],
 "metadata": {
  "kernelspec": {
   "display_name": "cv",
   "language": "python",
   "name": "python3"
  },
  "language_info": {
   "codemirror_mode": {
    "name": "ipython",
    "version": 3
   },
   "file_extension": ".py",
   "mimetype": "text/x-python",
   "name": "python",
   "nbconvert_exporter": "python",
   "pygments_lexer": "ipython3",
   "version": "3.9.13"
  },
  "orig_nbformat": 4
 },
 "nbformat": 4,
 "nbformat_minor": 2
}
