{
 "cells": [
  {
   "cell_type": "code",
   "execution_count": 15,
   "id": "badd5f83-414f-4d68-8ae8-9ad41b010d26",
   "metadata": {},
   "outputs": [],
   "source": [
    "import numpy as np\n",
    "import torch\n",
    "import torch.nn as nn\n",
    "from torchvision import datasets, transforms\n",
    "from torch.autograd import Function\n",
    "from torch.nn.modules.module import Module\n",
    "from torch.nn.functional import fold, unfold\n",
    "import torch.nn as nn\n",
    "import torch.nn.functional as F\n",
    "import torch.optim as optim\n",
    "import matplotlib.pyplot as plt"
   ]
  },
  {
   "cell_type": "code",
   "execution_count": 20,
   "id": "db7182db-fdde-4688-8da7-4ae0617b8d92",
   "metadata": {},
   "outputs": [],
   "source": [
    "\n",
    "transform = transforms.Compose([transforms.ToTensor(),\n",
    "                              transforms.Normalize((0.5,), (0.5,)),\n",
    "                              ])\n",
    "mnist = datasets.MNIST('./data', download = True, transform = transform)\n",
    "data_loader = torch.utils.data.DataLoader(mnist,\n",
    "                                          batch_size=32,\n",
    "                                          shuffle=True,\n",
    "                                          num_workers=2)\n",
    "mnistTest = datasets.MNIST('./data', download = True, train=False, transform = transform)\n",
    "data_loader_test = torch.utils.data.DataLoader(mnistTest,\n",
    "                                          batch_size=32,\n",
    "                                          shuffle=True,\n",
    "                                          num_workers=2)\n"
   ]
  },
  {
   "cell_type": "code",
   "execution_count": 25,
   "id": "e1888a1c-4435-4196-97b1-3d1ee8e14585",
   "metadata": {},
   "outputs": [],
   "source": [
    "def init_weights(m):\n",
    "    if type(m) == nn.Linear:\n",
    "        torch.nn.init.uniform_(m.weight,-1.0,1.0)\n",
    "        # torch.nn.init.zeros_(m.weight)\n",
    "\n",
    "def define_model(input_size, hidden_size, output_size):\n",
    "    \n",
    "    return nn.Sequential(\n",
    "        nn.Linear(input_size * input_size, 300),\n",
    "        nn.Sigmoid(),\n",
    "        nn.Linear(300, 200),\n",
    "        nn.Sigmoid(),\n",
    "        nn.Linear(200, output_size),\n",
    "        nn.LogSoftmax(dim=1)\n",
    "    )\n",
    "\n",
    "def train(epochs, lr, input_size, hidden_size, output_size, train_loader, test_loader):\n",
    "    model = define_model(input_size, hidden_size, output_size)\n",
    "    model.apply(init_weights)\n",
    "    optimizer = optim.SGD(model.parameters(), lr=lr)\n",
    "    lossArr = []\n",
    "    epochArr = []\n",
    "    bsize = 0\n",
    "    lossValue = 0\n",
    "    for epoch in range(epochs):\n",
    "        for i, (data, target) in enumerate(train_loader):\n",
    "            optimizer.zero_grad()\n",
    "            data = data.view(-1, input_size*input_size)\n",
    "            yhat = model(data)\n",
    "            loss = nn.CrossEntropyLoss()(yhat,target)\n",
    "            lossValue += loss.item()\n",
    "            loss.backward()\n",
    "            optimizer.step()\n",
    "            bsize = bsize + 1\n",
    "        if(epoch % 5 == 4):\n",
    "            lossArr.append(lossValue/bsize)\n",
    "            epochArr.append(epoch)\n",
    "            print(lossArr, epochArr)\n",
    "    count = 0\n",
    "    total = 0\n",
    "    plt.plot(epochArr, lossArr)\n",
    "    plt.xlabel('epoch')\n",
    "    plt.ylabel('loss')\n",
    "    for i, (data, target) in enumerate(test_loader):\n",
    "        data = data.view(-1, input_size*input_size)\n",
    "        yhat = model(data)\n",
    "        predicted = torch.argmax(yhat,dim=1)\n",
    "        count = count + torch.sum(predicted == target)\n",
    "        total += yhat.size(0)\n",
    "            \n",
    "    print(epoch,\"accuracy\",count/total)\n",
    "            \n",
    "            \n"
   ]
  },
  {
   "cell_type": "code",
   "execution_count": null,
   "id": "e40bbca8-97f2-473f-854b-0f5dfaeced47",
   "metadata": {},
   "outputs": [],
   "source": []
  },
  {
   "cell_type": "code",
   "execution_count": 26,
   "id": "f7a6cbc1-c2cf-4670-84c8-0a80280ec0ab",
   "metadata": {},
   "outputs": [
    {
     "name": "stdout",
     "output_type": "stream",
     "text": [
      "[0.7667306951022148] [4]\n",
      "[0.7667306951022148, 0.5775664824414253] [4, 9]\n",
      "[0.7667306951022148, 0.5775664824414253, 0.49015538587556945] [4, 9, 14]\n",
      "[0.7667306951022148, 0.5775664824414253, 0.49015538587556945, 0.4360203313376506] [4, 9, 14, 19]\n",
      "[0.7667306951022148, 0.5775664824414253, 0.49015538587556945, 0.4360203313376506, 0.3977352725120783] [4, 9, 14, 19, 24]\n",
      "[0.7667306951022148, 0.5775664824414253, 0.49015538587556945, 0.4360203313376506, 0.3977352725120783, 0.3685070764990648] [4, 9, 14, 19, 24, 29]\n",
      "[0.7667306951022148, 0.5775664824414253, 0.49015538587556945, 0.4360203313376506, 0.3977352725120783, 0.3685070764990648, 0.34508180964025714] [4, 9, 14, 19, 24, 29, 34]\n",
      "[0.7667306951022148, 0.5775664824414253, 0.49015538587556945, 0.4360203313376506, 0.3977352725120783, 0.3685070764990648, 0.34508180964025714, 0.32562044624275216] [4, 9, 14, 19, 24, 29, 34, 39]\n",
      "[0.7667306951022148, 0.5775664824414253, 0.49015538587556945, 0.4360203313376506, 0.3977352725120783, 0.3685070764990648, 0.34508180964025714, 0.32562044624275216, 0.30904863298401786] [4, 9, 14, 19, 24, 29, 34, 39, 44]\n",
      "[0.7667306951022148, 0.5775664824414253, 0.49015538587556945, 0.4360203313376506, 0.3977352725120783, 0.3685070764990648, 0.34508180964025714, 0.32562044624275216, 0.30904863298401786, 0.2946629880996148] [4, 9, 14, 19, 24, 29, 34, 39, 44, 49]\n",
      "49 accuracy tensor(0.9319)\n"
     ]
    },
    {
     "data": {
      "image/png": "[encoded data removed]",
      "text/plain": [
       "<Figure size 640x480 with 1 Axes>"
      ]
     },
     "metadata": {},
     "output_type": "display_data"
    }
   ],
   "source": [
    "train(50,0.01,28,300,10,data_loader,data_loader_test)"
   ]
  },
  {
   "cell_type": "code",
   "execution_count": null,
   "id": "ffec42f7-d5c6-41a4-a4fb-2f7065d79df1",
   "metadata": {},
   "outputs": [],
   "source": []
  }
 ],
 "metadata": {
  "kernelspec": {
   "display_name": "Python 3 (ipykernel)",
   "language": "python",
   "name": "python3"
  },
  "language_info": {
   "codemirror_mode": {
    "name": "ipython",
    "version": 3
   },
   "file_extension": ".py",
   "mimetype": "text/x-python",
   "name": "python",
   "nbconvert_exporter": "python",
   "pygments_lexer": "ipython3",
   "version": "3.9.12"
  }
 },
 "nbformat": 4,
 "nbformat_minor": 5
}
